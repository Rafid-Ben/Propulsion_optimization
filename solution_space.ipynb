{
 "cells": [
  {
   "cell_type": "code",
   "execution_count": 1,
   "metadata": {},
   "outputs": [],
   "source": [
    "import numpy as np\n",
    "from scipy.optimize import minimize\n",
    "import matplotlib.pyplot as plt"
   ]
  },
  {
   "cell_type": "code",
   "execution_count": 2,
   "metadata": {},
   "outputs": [],
   "source": [
    "# Function definitions\n",
    "\n",
    "def payload_i (x,y,beta_i):\n",
    "    Hi=np.exp(-beta_i *y/x) -x**2 *(1-np.exp(-y/x))\n",
    "    return Hi\n",
    "\n",
    "\n",
    "def payload_mission(x,y,sequence):\n",
    "    H_list=[]\n",
    "    for beta_i in sequence:\n",
    "        H_list.append(payload_i(x,y,beta_i))\n",
    "    Hm=np.min(H_list)\n",
    "    return Hm\n",
    "\n",
    "\n",
    "def time_coeff (x,y,sequence):\n",
    "    mp_refuel= np.sum(1-np.exp(-sequence *y/x))\n",
    "    mp_star=1-np.exp(-y/x)\n",
    "    tau=mp_refuel/mp_star\n",
    "    return tau\n",
    "\n",
    "\n",
    "def specific_fuel_cons(x,y,sequence):\n",
    "    mp_refuel= np.sum(1-np.exp(-sequence *y/x))\n",
    "    Hm=payload_mission(x,y,sequence)\n",
    "    f=mp_refuel/Hm\n",
    "    return f"
   ]
  },
  {
   "cell_type": "code",
   "execution_count": 3,
   "metadata": {},
   "outputs": [],
   "source": [
    "# Constraint functions\n",
    "\n",
    "def constraint_sum_beta(sequence):\n",
    "    return np.sum(sequence) - 1\n",
    "\n",
    "def constraint_min_beta(sequence):\n",
    "    return np.min(sequence) - 0.05\n",
    "\n",
    "def constraint_payload_min(sequence, x, y, H_min):\n",
    "    return payload_mission(x, y, sequence) - H_min\n",
    "\n",
    "def constraint_tau_max(sequence, x, y, tau_max):\n",
    "    return tau_max - time_coeff(x, y, sequence)\n",
    "\n",
    "def constraint_f_max(sequence, x, y, f_max):\n",
    "    return f_max - specific_fuel_cons(x, y, sequence)"
   ]
  },
  {
   "cell_type": "code",
   "execution_count": 4,
   "metadata": {},
   "outputs": [],
   "source": [
    "# Initial guess and bounds\n",
    "x = 1.2\n",
    "y = 0.5\n",
    "H_max=1 -x**2 *(1-np.exp(-y/x))\n",
    "H_min = 0.80*H_max\n",
    "tau_max = 2\n",
    "f_max = 2.5\n",
    "n = 10\n",
    "beta_initial = np.full(n, 1/n)\n",
    "bounds = [(0, 1)] * n\n",
    "\n",
    "# Constraints with parameters\n",
    "constraints = [\n",
    "    {'type': 'eq', 'fun': constraint_sum_beta},\n",
    "    {'type': 'ineq', 'fun': constraint_min_beta},\n",
    "    {'type': 'ineq', 'fun': lambda beta: constraint_payload_min(beta, x, y, H_min)},\n",
    "    {'type': 'ineq', 'fun': lambda beta: constraint_tau_max(beta, x, y, tau_max)},\n",
    "    {'type': 'ineq', 'fun': lambda beta: constraint_f_max(beta, x, y, f_max)},\n",
    "]"
   ]
  },
  {
   "cell_type": "markdown",
   "metadata": {},
   "source": [
    "# 1- Maximize payload mass"
   ]
  },
  {
   "cell_type": "code",
   "execution_count": 5,
   "metadata": {},
   "outputs": [
    {
     "name": "stdout",
     "output_type": "stream",
     "text": [
      "Optimization terminated successfully    (Exit mode 0)\n",
      "            Current function value: -0.4684959645977772\n",
      "            Iterations: 1\n",
      "            Function evaluations: 11\n",
      "            Gradient evaluations: 1\n",
      "Optimal sequence: ['0.100', '0.100', '0.100', '0.100', '0.100', '0.100', '0.100', '0.100', '0.100', '0.100']\n",
      "Payload mission: 0.468\n",
      "Time coeff: 1.198\n",
      "Specific fuel cons: 0.871\n"
     ]
    }
   ],
   "source": [
    "result = minimize(\n",
    "    lambda beta: -payload_mission(x, y, beta),\n",
    "    beta_initial,\n",
    "    method='SLSQP',\n",
    "    constraints=constraints,\n",
    "    bounds=bounds,\n",
    "    options={'maxiter': 1000, 'disp': True}\n",
    ")\n",
    "\n",
    "# Results\n",
    "if result.success:\n",
    "    print(f\"Optimal sequence: {[f'{beta:.3f}' for beta in result.x]}\")\n",
    "    print(f\"Payload mission: {payload_mission(x, y, result.x):.3f}\")\n",
    "    print(f\"Time coeff: {time_coeff(x, y, result.x):.3f}\")\n",
    "    print(f\"Specific fuel cons: {specific_fuel_cons(x, y, result.x):.3f}\")\n",
    "else:\n",
    "    print(\"Optimization failed:\", result.message)"
   ]
  },
  {
   "cell_type": "markdown",
   "metadata": {},
   "source": [
    "# 2- Minimize the time ratio"
   ]
  },
  {
   "cell_type": "code",
   "execution_count": 6,
   "metadata": {},
   "outputs": [
    {
     "name": "stdout",
     "output_type": "stream",
     "text": [
      "Optimization terminated successfully    (Exit mode 0)\n",
      "            Current function value: 1.1976352378767365\n",
      "            Iterations: 1\n",
      "            Function evaluations: 11\n",
      "            Gradient evaluations: 1\n",
      "Optimal sequence: ['0.100', '0.100', '0.100', '0.100', '0.100', '0.100', '0.100', '0.100', '0.100', '0.100']\n",
      "Payload mission: 0.468\n",
      "Time coeff: 1.198\n",
      "Specific fuel cons: 0.871\n"
     ]
    }
   ],
   "source": [
    "result = minimize(\n",
    "    lambda beta: time_coeff(x, y, beta),\n",
    "    beta_initial,\n",
    "    method='SLSQP',\n",
    "    constraints=constraints,\n",
    "    bounds=bounds,\n",
    "    options={'maxiter': 1000, 'disp': True}\n",
    ")\n",
    "\n",
    "# Results\n",
    "if result.success:\n",
    "    print(f\"Optimal sequence: {[f'{beta:.3f}' for beta in result.x]}\")\n",
    "    print(f\"Payload mission: {payload_mission(x, y, result.x):.3f}\")\n",
    "    print(f\"Time coeff: {time_coeff(x, y, result.x):.3f}\")\n",
    "    print(f\"Specific fuel cons: {specific_fuel_cons(x, y, result.x):.3f}\")\n",
    "else:\n",
    "    print(\"Optimization failed:\", result.message)"
   ]
  },
  {
   "cell_type": "markdown",
   "metadata": {},
   "source": [
    "# 3- Minimize specific propellant consumption"
   ]
  },
  {
   "cell_type": "code",
   "execution_count": 7,
   "metadata": {},
   "outputs": [
    {
     "name": "stdout",
     "output_type": "stream",
     "text": [
      "Optimization terminated successfully    (Exit mode 0)\n",
      "            Current function value: 0.8710969992217402\n",
      "            Iterations: 1\n",
      "            Function evaluations: 11\n",
      "            Gradient evaluations: 1\n",
      "Optimal sequence: ['0.100', '0.100', '0.100', '0.100', '0.100', '0.100', '0.100', '0.100', '0.100', '0.100']\n",
      "Payload mission: 0.468\n",
      "Time coeff: 1.198\n",
      "Specific fuel cons: 0.871\n"
     ]
    }
   ],
   "source": [
    "result = minimize(\n",
    "    lambda beta: specific_fuel_cons(x, y, beta),\n",
    "    beta_initial,\n",
    "    method='SLSQP',\n",
    "    constraints=constraints,\n",
    "    bounds=bounds,\n",
    "    options={'maxiter': 1000, 'disp': True}\n",
    ")\n",
    "\n",
    "# Results\n",
    "if result.success:\n",
    "    print(f\"Optimal sequence: {[f'{beta:.3f}' for beta in result.x]}\")\n",
    "    print(f\"Payload mission: {payload_mission(x, y, result.x):.3f}\")\n",
    "    print(f\"Time coeff: {time_coeff(x, y, result.x):.3f}\")\n",
    "    print(f\"Specific fuel cons: {specific_fuel_cons(x, y, result.x):.3f}\")\n",
    "else:\n",
    "    print(\"Optimization failed:\", result.message)"
   ]
  },
  {
   "cell_type": "markdown",
   "metadata": {},
   "source": [
    "# Plots"
   ]
  },
  {
   "cell_type": "code",
   "execution_count": 8,
   "metadata": {},
   "outputs": [],
   "source": [
    "# Initial guess and bounds\n",
    "x = 1.2\n",
    "y = 0.5\n",
    "H_max=1 -x**2 *(1-np.exp(-y/x))\n",
    "H_min = 0.80*H_max\n",
    "tau_max = 20\n",
    "f_max = 20\n",
    "n = 10\n",
    "np.seed=437\n",
    "beta_initial = np.full(n, 1/n)\n",
    "bounds = [(0, 1)] * n\n",
    "\n",
    "# Constraints with parameters\n",
    "constraints = [\n",
    "    {'type': 'eq', 'fun': constraint_sum_beta},\n",
    "    {'type': 'ineq', 'fun': constraint_min_beta},\n",
    "    {'type': 'ineq', 'fun': lambda beta: constraint_payload_min(beta, x, y, H_min)},\n",
    "    {'type': 'ineq', 'fun': lambda beta: constraint_tau_max(beta, x, y, tau_max)},\n",
    "    {'type': 'ineq', 'fun': lambda beta: constraint_f_max(beta, x, y, f_max)},\n",
    "]"
   ]
  },
  {
   "cell_type": "code",
   "execution_count": 9,
   "metadata": {},
   "outputs": [
    {
     "name": "stdout",
     "output_type": "stream",
     "text": [
      "H_min= 0.4074452059909113\n",
      "0.4684959645977772\n",
      "1.1976352378767365\n",
      "0.8710969992217402\n"
     ]
    }
   ],
   "source": [
    "print(\"H_min=\",H_min)\n",
    "print(payload_mission(x, y, beta_initial))\n",
    "print(time_coeff(x, y, beta_initial))\n",
    "print(specific_fuel_cons(x, y, beta_initial))"
   ]
  },
  {
   "cell_type": "code",
   "execution_count": 14,
   "metadata": {},
   "outputs": [
    {
     "name": "stdout",
     "output_type": "stream",
     "text": [
      "Positive directional derivative for linesearch    (Exit mode 8)\n",
      "            Current function value: 2.010891295483427\n",
      "            Iterations: 26\n",
      "            Function evaluations: 253\n",
      "            Gradient evaluations: 22\n",
      "Optimization failed: Positive directional derivative for linesearch\n"
     ]
    }
   ],
   "source": [
    "x = 1.2\n",
    "y = 0.5\n",
    "H_max=1 -x**2 *(1-np.exp(-y/x))\n",
    "H_min = 0.80*H_max\n",
    "tau_max = 2\n",
    "f_max = 2\n",
    "n = 10\n",
    "np.seed=437\n",
    "perturbation = np.random.uniform(-0.2, 0.02, n)\n",
    "beta_initial = np.full(n, 1/n) + perturbation\n",
    "\n",
    "# Ensure the sum is still 1 and adjust for feasibility\n",
    "beta_initial /= beta_initial.sum()\n",
    "\n",
    "bounds = [(0, 1)] * n\n",
    "\n",
    "# Constraints with parameters\n",
    "constraints = [\n",
    "    {'type': 'eq', 'fun': constraint_sum_beta},\n",
    "    {'type': 'ineq', 'fun': constraint_min_beta},\n",
    "    {'type': 'ineq', 'fun': lambda beta: constraint_payload_min(beta, x, y, H_min)},\n",
    "    {'type': 'ineq', 'fun': lambda beta: constraint_tau_max(beta, x, y, tau_max)},\n",
    "    {'type': 'ineq', 'fun': lambda beta: constraint_f_max(beta, x, y, f_max)},\n",
    "]\n",
    "\n",
    "\n",
    "result = minimize(\n",
    "    lambda beta: time_coeff(x, y, beta),\n",
    "    beta_initial,\n",
    "    method='SLSQP',\n",
    "    constraints=constraints,\n",
    "    bounds=bounds,\n",
    "    options={'maxiter': 1000, 'disp': True}\n",
    ")\n",
    "\n",
    "# Results\n",
    "if result.success:\n",
    "    print(f\"Optimal sequence: {[f'{beta:.3f}' for beta in result.x]}\")\n",
    "    print(f\"Payload mission: {payload_mission(x, y, result.x):.3f}\")\n",
    "    print(f\"Time coeff: {time_coeff(x, y, result.x):.3f}\")\n",
    "    print(f\"Specific fuel cons: {specific_fuel_cons(x, y, result.x):.3f}\")\n",
    "else:\n",
    "    print(\"Optimization failed:\", result.message)"
   ]
  },
  {
   "cell_type": "code",
   "execution_count": 11,
   "metadata": {},
   "outputs": [
    {
     "data": {
      "text/plain": [
       "0.4074452059909113"
      ]
     },
     "execution_count": 11,
     "metadata": {},
     "output_type": "execute_result"
    }
   ],
   "source": [
    "H_min"
   ]
  },
  {
   "cell_type": "code",
   "execution_count": 12,
   "metadata": {},
   "outputs": [
    {
     "name": "stdout",
     "output_type": "stream",
     "text": [
      "Payload mission: 0.301\n",
      "Time coeff: 1.102\n",
      "Specific fuel cons: 1.248\n"
     ]
    }
   ],
   "source": [
    "print(f\"Payload mission: {payload_mission(x, y, beta_initial):.3f}\")\n",
    "print(f\"Time coeff: {time_coeff(x, y, beta_initial):.3f}\")\n",
    "print(f\"Specific fuel cons: {specific_fuel_cons(x, y, beta_initial):.3f}\")"
   ]
  },
  {
   "cell_type": "code",
   "execution_count": null,
   "metadata": {},
   "outputs": [],
   "source": []
  }
 ],
 "metadata": {
  "kernelspec": {
   "display_name": "base",
   "language": "python",
   "name": "python3"
  },
  "language_info": {
   "codemirror_mode": {
    "name": "ipython",
    "version": 3
   },
   "file_extension": ".py",
   "mimetype": "text/x-python",
   "name": "python",
   "nbconvert_exporter": "python",
   "pygments_lexer": "ipython3",
   "version": "3.12.2"
  }
 },
 "nbformat": 4,
 "nbformat_minor": 2
}
